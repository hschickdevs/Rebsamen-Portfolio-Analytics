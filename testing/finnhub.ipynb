{
 "cells": [
  {
   "cell_type": "code",
   "execution_count": 48,
   "metadata": {},
   "outputs": [],
   "source": [
    "import pandas as pd\n",
    "from finnhub import Client\n",
    "import json"
   ]
  },
  {
   "cell_type": "code",
   "execution_count": 49,
   "metadata": {},
   "outputs": [
    {
     "data": {
      "text/plain": [
       "{'c': 39.25,\n",
       " 'd': 0.34,\n",
       " 'dp': 0.8738,\n",
       " 'h': 39.38,\n",
       " 'l': 39.09,\n",
       " 'o': 39.14,\n",
       " 'pc': 38.91,\n",
       " 't': 1663012800}"
      ]
     },
     "execution_count": 49,
     "metadata": {},
     "output_type": "execute_result"
    }
   ],
   "source": [
    "finnhub_cli = Client(\"c3r13u2ad3i98m4ier5g\")\n",
    "finnhub_cli.quote(\"SPYV\")"
   ]
  },
  {
   "cell_type": "code",
   "execution_count": 51,
   "metadata": {},
   "outputs": [
    {
     "data": {
      "text/plain": [
       "{'country': 'US',\n",
       " 'currency': 'USD',\n",
       " 'exchange': 'NASDAQ NMS - GLOBAL MARKET',\n",
       " 'finnhubIndustry': 'Technology',\n",
       " 'ipo': '1980-12-12',\n",
       " 'logo': 'https://static.finnhub.io/logo/87cb30d8-80df-11ea-8951-00000000092a.png',\n",
       " 'marketCapitalization': 2626442.9102072055,\n",
       " 'name': 'Apple Inc',\n",
       " 'phone': '14089961010.0',\n",
       " 'shareOutstanding': 16070.8,\n",
       " 'ticker': 'AAPL',\n",
       " 'weburl': 'https://www.apple.com/'}"
      ]
     },
     "execution_count": 51,
     "metadata": {},
     "output_type": "execute_result"
    }
   ],
   "source": [
    "finnhub_cli.company_profile2(symbol=\"AAPL\")"
   ]
  },
  {
   "cell_type": "code",
   "execution_count": 28,
   "metadata": {},
   "outputs": [
    {
     "data": {
      "text/html": [
       "<div>\n",
       "<style scoped>\n",
       "    .dataframe tbody tr th:only-of-type {\n",
       "        vertical-align: middle;\n",
       "    }\n",
       "\n",
       "    .dataframe tbody tr th {\n",
       "        vertical-align: top;\n",
       "    }\n",
       "\n",
       "    .dataframe thead th {\n",
       "        text-align: right;\n",
       "    }\n",
       "</style>\n",
       "<table border=\"1\" class=\"dataframe\">\n",
       "  <thead>\n",
       "    <tr style=\"text-align: right;\">\n",
       "      <th></th>\n",
       "      <th>value</th>\n",
       "    </tr>\n",
       "    <tr>\n",
       "      <th>metric</th>\n",
       "      <th></th>\n",
       "    </tr>\n",
       "  </thead>\n",
       "  <tbody>\n",
       "    <tr>\n",
       "      <th>10DayAverageTradingVolume</th>\n",
       "      <td>48.11788</td>\n",
       "    </tr>\n",
       "    <tr>\n",
       "      <th>13WeekPriceReturnDaily</th>\n",
       "      <td>4.21741</td>\n",
       "    </tr>\n",
       "    <tr>\n",
       "      <th>26WeekPriceReturnDaily</th>\n",
       "      <td>-12.4491</td>\n",
       "    </tr>\n",
       "    <tr>\n",
       "      <th>3MonthAverageTradingVolume</th>\n",
       "      <td>1354.95999</td>\n",
       "    </tr>\n",
       "    <tr>\n",
       "      <th>52WeekHigh</th>\n",
       "      <td>188.071</td>\n",
       "    </tr>\n",
       "    <tr>\n",
       "      <th>...</th>\n",
       "      <td>...</td>\n",
       "    </tr>\n",
       "    <tr>\n",
       "      <th>tangibleBookValuePerShareQuarterly</th>\n",
       "      <td>10.92085</td>\n",
       "    </tr>\n",
       "    <tr>\n",
       "      <th>tbvCagr5Y</th>\n",
       "      <td>51.72425</td>\n",
       "    </tr>\n",
       "    <tr>\n",
       "      <th>totalDebt/totalEquityAnnual</th>\n",
       "      <td>52.29918</td>\n",
       "    </tr>\n",
       "    <tr>\n",
       "      <th>totalDebt/totalEquityQuarterly</th>\n",
       "      <td>62.95718</td>\n",
       "    </tr>\n",
       "    <tr>\n",
       "      <th>yearToDatePriceReturnDaily</th>\n",
       "      <td>-23.5171</td>\n",
       "    </tr>\n",
       "  </tbody>\n",
       "</table>\n",
       "<p>124 rows × 1 columns</p>\n",
       "</div>"
      ],
      "text/plain": [
       "                                         value\n",
       "metric                                        \n",
       "10DayAverageTradingVolume             48.11788\n",
       "13WeekPriceReturnDaily                 4.21741\n",
       "26WeekPriceReturnDaily                -12.4491\n",
       "3MonthAverageTradingVolume          1354.95999\n",
       "52WeekHigh                             188.071\n",
       "...                                        ...\n",
       "tangibleBookValuePerShareQuarterly    10.92085\n",
       "tbvCagr5Y                             51.72425\n",
       "totalDebt/totalEquityAnnual           52.29918\n",
       "totalDebt/totalEquityQuarterly        62.95718\n",
       "yearToDatePriceReturnDaily            -23.5171\n",
       "\n",
       "[124 rows x 1 columns]"
      ]
     },
     "execution_count": 28,
     "metadata": {},
     "output_type": "execute_result"
    }
   ],
   "source": [
    "r =  finnhub_cli.company_basic_financials(\"AMZN\", \"all\")\n",
    "# json.dumps(r, indent=3)\n",
    "formatted_r = {\"metric\": [k for k, v in r['metric'].items()],\n",
    "                \"value\": [str(v) for k, v in r['metric'].items()]}\n",
    "df = pd.DataFrame(formatted_r)\n",
    "df.set_index(\"metric\")"
   ]
  },
  {
   "cell_type": "code",
   "execution_count": 29,
   "metadata": {},
   "outputs": [
    {
     "data": {
      "text/html": [
       "<div>\n",
       "<style scoped>\n",
       "    .dataframe tbody tr th:only-of-type {\n",
       "        vertical-align: middle;\n",
       "    }\n",
       "\n",
       "    .dataframe tbody tr th {\n",
       "        vertical-align: top;\n",
       "    }\n",
       "\n",
       "    .dataframe thead th {\n",
       "        text-align: right;\n",
       "    }\n",
       "</style>\n",
       "<table border=\"1\" class=\"dataframe\">\n",
       "  <thead>\n",
       "    <tr style=\"text-align: right;\">\n",
       "      <th></th>\n",
       "      <th>metric</th>\n",
       "      <th>value</th>\n",
       "    </tr>\n",
       "  </thead>\n",
       "  <tbody>\n",
       "    <tr>\n",
       "      <th>12</th>\n",
       "      <td>beta</td>\n",
       "      <td>1.33607</td>\n",
       "    </tr>\n",
       "  </tbody>\n",
       "</table>\n",
       "</div>"
      ],
      "text/plain": [
       "   metric    value\n",
       "12   beta  1.33607"
      ]
     },
     "execution_count": 29,
     "metadata": {},
     "output_type": "execute_result"
    }
   ],
   "source": [
    "row = df.loc[df['metric'] == \"beta\"]\n",
    "row"
   ]
  },
  {
   "cell_type": "code",
   "execution_count": 37,
   "metadata": {},
   "outputs": [
    {
     "data": {
      "text/plain": [
       "'1.33607'"
      ]
     },
     "execution_count": 37,
     "metadata": {},
     "output_type": "execute_result"
    }
   ],
   "source": [
    "row['value'].iat[0]"
   ]
  },
  {
   "cell_type": "code",
   "execution_count": null,
   "metadata": {},
   "outputs": [],
   "source": []
  }
 ],
 "metadata": {
  "kernelspec": {
   "display_name": "Python 3.9.7 64-bit",
   "language": "python",
   "name": "python3"
  },
  "language_info": {
   "codemirror_mode": {
    "name": "ipython",
    "version": 3
   },
   "file_extension": ".py",
   "mimetype": "text/x-python",
   "name": "python",
   "nbconvert_exporter": "python",
   "pygments_lexer": "ipython3",
   "version": "3.9.7"
  },
  "orig_nbformat": 4,
  "vscode": {
   "interpreter": {
    "hash": "aee8b7b246df8f9039afb4144a1f6fd8d2ca17a180786b69acc140d282b71a49"
   }
  }
 },
 "nbformat": 4,
 "nbformat_minor": 2
}
